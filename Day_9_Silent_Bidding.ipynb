{
  "nbformat": 4,
  "nbformat_minor": 0,
  "metadata": {
    "colab": {
      "provenance": []
    },
    "kernelspec": {
      "name": "python3",
      "display_name": "Python 3"
    },
    "language_info": {
      "name": "python"
    }
  },
  "cells": [
    {
      "cell_type": "code",
      "execution_count": 1,
      "metadata": {
        "id": "hC9Znvt8zh9j"
      },
      "outputs": [],
      "source": [
        "logo = '''\n",
        "                         ___________\n",
        "                         \\         /\n",
        "                          )_______(\n",
        "                          |\"\"\"\"\"\"\"|_.-._,.---------.,_.-._\n",
        "                          |       | | |               | | ''-.\n",
        "                          |       |_| |_             _| |_..-'\n",
        "                          |_______| '-' `'---------'` '-'\n",
        "                          )\"\"\"\"\"\"\"(\n",
        "                         /_________\\\\\n",
        "                       .-------------.\n",
        "                      /_______________\\\\\n",
        "'''"
      ]
    },
    {
      "cell_type": "code",
      "source": [
        "print(logo)\n",
        "from IPython.display import clear_output\n",
        "\n",
        "\n",
        "#Input from the user\n",
        "name=input('What is your name:\\n')\n",
        "bid=int(input('What is your bid (input just the number):\\n'))\n",
        "#Establishing empty dictionary\n",
        "bidders_dict={}\n",
        "#Inserting user input into empty dictionary\n",
        "bidders_dict[name]=bid\n",
        "\n",
        "#starting loop\n",
        "\n",
        "more_bidders=True\n",
        "#Inserting new bidder info\n",
        "while more_bidders:\n",
        "  bidders=input('Are there any other bidders? Type \"yes\" or \"no\".\\n').lower()\n",
        "  if bidders == 'yes':\n",
        "    #Clearing the line, and taking input from new bidder\n",
        "    clear_output()\n",
        "    name=input('What is your name:\\n')\n",
        "    bid=int(input('What is your bid:\\n'))\n",
        "    bidders_dict[name]=bid\n",
        "\n",
        "  elif bidders == 'no':\n",
        "    #Ending the loop\n",
        "    more_bidders=False\n",
        "    clear_output()\n",
        "    #Finding the highest bidder in the dictonary\n",
        "    highest_bid=0\n",
        "    for bidder in bidders_dict:\n",
        "      if bidders_dict[bidder]>highest_bid:\n",
        "        highest_bid=bidders_dict[bidder]\n",
        "      else:\n",
        "        highest_bid=highest_bid\n",
        "    print(f'The winner is {bidder} with a bid of {highest_bid}.')\n",
        "\n",
        "\n",
        "\n",
        ""
      ],
      "metadata": {
        "colab": {
          "base_uri": "https://localhost:8080/"
        },
        "id": "WYkToUW-zkZk",
        "outputId": "cbf36e7e-17d1-479b-f7d9-186c9983f406"
      },
      "execution_count": 5,
      "outputs": [
        {
          "output_type": "stream",
          "name": "stdout",
          "text": [
            "The winner is Paulina with a bid of 180.\n"
          ]
        }
      ]
    }
  ]
}