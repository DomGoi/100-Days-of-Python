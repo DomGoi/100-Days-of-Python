{
 "cells": [
  {
   "cell_type": "code",
   "execution_count": 22,
   "id": "bf2b43c1",
   "metadata": {},
   "outputs": [
    {
     "name": "stdout",
     "output_type": "stream",
     "text": [
      "Welcome to the tip calculator!\n",
      "What was the total bill? $234.56\n",
      "How much tip would you like to give? 10%, 12%, or 15%? 14\n",
      "How many people to split the bill? 2\n",
      "Each person should pay: $133.70\n"
     ]
    }
   ],
   "source": [
    "print(\"Welcome to the tip calculator!\")\n",
    " #Gathering data for the calculations\n",
    "# 1.Total bill amount\n",
    "total_bill=float(input(\"What was the total bill? $\"))\n",
    "# 2. Precentage of the tip value, in decimal values.\n",
    "tip_value=int(input(\"How much tip would you like to give? 10%, 12%, or 15%? \"))/100\n",
    "# 3. Number of people to split the bill with\n",
    "people_num=int(input(\"How many people to split the bill? \"))\n",
    "\n",
    "\n",
    "#Calculations of the value which should be paid by each person\n",
    "amount=(total_bill*(1+tip_value))/people_num\n",
    "#Rounding the value to two decimal places\n",
    "round_amount=round(amount,2)\n",
    "round_amount2=\"{:.2f}\".format(round_amount)\n",
    "\n",
    "# Printing the final answer\n",
    "print(f\"Each person should pay: ${round_amount2}\")"
   ]
  }
 ],
 "metadata": {
  "kernelspec": {
   "display_name": "Python 3 (ipykernel)",
   "language": "python",
   "name": "python3"
  },
  "language_info": {
   "codemirror_mode": {
    "name": "ipython",
    "version": 3
   },
   "file_extension": ".py",
   "mimetype": "text/x-python",
   "name": "python",
   "nbconvert_exporter": "python",
   "pygments_lexer": "ipython3",
   "version": "3.11.5"
  }
 },
 "nbformat": 4,
 "nbformat_minor": 5
}
