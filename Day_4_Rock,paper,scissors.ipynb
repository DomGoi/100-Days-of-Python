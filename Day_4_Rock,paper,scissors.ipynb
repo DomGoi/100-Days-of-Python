{
  "cells": [
    {
      "cell_type": "code",
      "execution_count": 1,
      "metadata": {
        "colab": {
          "base_uri": "https://localhost:8080/"
        },
        "id": "XXH039dUsxZJ",
        "outputId": "743f2357-616d-470b-fdd2-a9851a60fe67"
      },
      "outputs": [
        {
          "name": "stdout",
          "output_type": "stream",
          "text": [
            "What do you choose? Type Rock, Paper or Scissors.rock\n",
            "Computer choose:\n",
            "\n",
            "    _______\n",
            "---'   ____)\n",
            "      (_____)\n",
            "      (_____)\n",
            "      (____)\n",
            "---.__(___)\n",
            "\n",
            "Player choose:\n",
            "\n",
            "    _______\n",
            "---'   ____)\n",
            "      (_____)\n",
            "      (_____)\n",
            "      (____)\n",
            "---.__(___)\n",
            "\n",
            "It is a tie, try again.\n"
          ]
        }
      ],
      "source": [
        "rock = '''\n",
        "    _______\n",
        "---'   ____)\n",
        "      (_____)\n",
        "      (_____)\n",
        "      (____)\n",
        "---.__(___)\n",
        "'''\n",
        "\n",
        "paper = '''\n",
        "    _______\n",
        "---'   ____)____\n",
        "          ______)\n",
        "          _______)\n",
        "         _______)\n",
        "---.__________)\n",
        "'''\n",
        "\n",
        "scissors = '''\n",
        "    _______\n",
        "---'   ____)____\n",
        "          ______)\n",
        "       __________)\n",
        "      (____)\n",
        "---.__(___)\n",
        "'''\n",
        "\n",
        "#Write your code below this line 👇\n",
        "import random\n",
        "moves = ['rock', 'paper', 'scissors']\n",
        "\n",
        "player = input(\"What do you choose? Type Rock, Paper or Scissors.\").lower().strip()\n",
        "if player not in moves:\n",
        "  print(\"Invalid input. Please choose Rock, Paper, or Scissors.\")\n",
        "else:\n",
        "  player_move = moves.index(player)\n",
        "  print(\"Computer choose:\")\n",
        "  computer_move=random.randint(0,2)\n",
        "  if computer_move == 0:\n",
        "    computer = 'rock'\n",
        "    print(rock)\n",
        "  elif computer_move == 1:\n",
        "    computer = 'paper'\n",
        "    print(paper)\n",
        "  else:\n",
        "    computer='scissors'\n",
        "    print(scissors)\n",
        "\n",
        "  player_move=moves.index(player)\n",
        "  print(\"Player choose:\")\n",
        "  if player == 'rock':\n",
        "    print(rock)\n",
        "  elif player == 'paper':\n",
        "    print(paper)\n",
        "  else:\n",
        "    print(scissors)\n",
        "\n",
        "\n",
        "\n",
        "\n",
        "  if computer_move == player_move:\n",
        "    print(\"It is a tie, try again.\")\n",
        "\n",
        "  elif computer_move == 0 and player_move == 2:\n",
        "    print(\"You lose.\")\n",
        "  elif computer_move == 2 and player_move == 0:\n",
        "    print(\"You won.\")\n",
        "  elif computer_move == 1 and player_move == 0:\n",
        "    print(\"You lose.\")\n",
        "  elif computer_move == 0 and player_move == 1:\n",
        "    print(\"You won.\")\n",
        "  elif computer_move == 2 and player_move == 1:\n",
        "    print(\"You lose.\")\n",
        "  elif computer_move == 1 and player_move == 2:\n",
        "    print(\"You won.\")\n",
        "\n",
        "\n",
        "\n"
      ]
    }
  ],
  "metadata": {
    "colab": {
      "provenance": []
    },
    "kernelspec": {
      "display_name": "Python 3",
      "name": "python3"
    },
    "language_info": {
      "name": "python"
    }
  },
  "nbformat": 4,
  "nbformat_minor": 0
}
