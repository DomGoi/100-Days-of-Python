{
  "nbformat": 4,
  "nbformat_minor": 0,
  "metadata": {
    "colab": {
      "provenance": []
    },
    "kernelspec": {
      "name": "python3",
      "display_name": "Python 3"
    },
    "language_info": {
      "name": "python"
    }
  },
  "cells": [
    {
      "cell_type": "code",
      "execution_count": 1,
      "metadata": {
        "colab": {
          "base_uri": "https://localhost:8080/"
        },
        "id": "5hhoOdbkx2xj",
        "outputId": "3bf473ad-bfa9-4854-f7c9-b6f99780c976"
      },
      "outputs": [
        {
          "output_type": "stream",
          "name": "stdout",
          "text": [
            "Welcome to the PyPassword Generator!\n",
            "How many letters would you like in your password?\n",
            "5\n",
            "How many symbols would you like?\n",
            "4\n",
            "How many numbers would you like?\n",
            "5\n",
            "Your password: (x$r9+F+De1511\n"
          ]
        }
      ],
      "source": [
        "#Password Generator Project\n",
        "#User input\n",
        "print(\"Welcome to the PyPassword Generator!\")\n",
        "# nr_letter input in int\n",
        "nr_letters = int(input(\"How many letters would you like in your password?\\n\"))\n",
        "# nr_symbols input in int\n",
        "nr_symbols = int(input(f\"How many symbols would you like?\\n\"))\n",
        "# nr_num input in int\n",
        "nr_numbers = int(input(f\"How many numbers would you like?\\n\"))\n",
        "\n",
        "#coding part\n",
        "import random\n",
        "\n",
        "letters = ['a', 'b', 'c', 'd', 'e', 'f', 'g', 'h', 'i', 'j', 'k', 'l', 'm', 'n', 'o', 'p', 'q', 'r', 's', 't', 'u', 'v', 'w', 'x', 'y', 'z', 'A', 'B', 'C', 'D', 'E', 'F', 'G', 'H', 'I', 'J', 'K', 'L', 'M', 'N', 'O', 'P', 'Q', 'R', 'S', 'T', 'U', 'V', 'W', 'X', 'Y', 'Z']\n",
        "numbers = ['0', '1', '2', '3', '4', '5', '6', '7', '8', '9']\n",
        "symbols = ['!', '#', '$', '%', '&', '(', ')', '*', '+']\n",
        "\n",
        "# letters\n",
        "letter_list = []\n",
        "for l in range(0, nr_letters):\n",
        "    letter_list.append(letters[random.randint(0, 51)])\n",
        "\n",
        "#symbols\n",
        "sym_list = []\n",
        "for s in range(0, nr_symbols):\n",
        "    sym_list.append(symbols[random.randint(0, 8)])\n",
        "\n",
        "# numbers\n",
        "num_list = []\n",
        "for n in range(0, nr_numbers):\n",
        "    num_list.append(numbers[random.randint(0, 9)])\n",
        "\n",
        "#Password\n",
        "password_list = letter_list + sym_list + num_list\n",
        "random.shuffle(password_list)\n",
        "final_password = ''.join(password_list)\n",
        "\n",
        "print(f\"Your password: {final_password}\")\n",
        "\n"
      ]
    }
  ]
}