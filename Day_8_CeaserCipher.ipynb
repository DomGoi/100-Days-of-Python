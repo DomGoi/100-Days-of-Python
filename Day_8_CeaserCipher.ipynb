{
  "nbformat": 4,
  "nbformat_minor": 0,
  "metadata": {
    "colab": {
      "provenance": []
    },
    "kernelspec": {
      "name": "python3",
      "display_name": "Python 3"
    },
    "language_info": {
      "name": "python"
    }
  },
  "cells": [
    {
      "cell_type": "code",
      "execution_count": 3,
      "metadata": {
        "colab": {
          "base_uri": "https://localhost:8080/"
        },
        "id": "vl4IFKOkWAoO",
        "outputId": "12df95bb-d0be-410b-ca70-5de7a2b97ac0"
      },
      "outputs": [
        {
          "output_type": "stream",
          "name": "stdout",
          "text": [
            "           \n",
            " ,adPPYba, ,adPPYYba,  ,adPPYba, ,adPPYba, ,adPPYYba, 8b,dPPYba,  \n",
            "a8\"     \"\" \"\"     `Y8 a8P_____88 I8[    \"\" \"\"     `Y8 88P'   \"Y8  \n",
            "8b         ,adPPPPP88 8PP\"  `\"Y8ba,  ,adPPPPP88 88          \n",
            "\"8a,   ,aa 88,    ,88 \"8b,   ,aa aa    ]8I 88,    ,88 88          \n",
            " `\"Ybbd8\"' `\"8bbdP\"Y8  `\"Ybbd8\"' `\"YbbdP\"' `\"8bbdP\"Y8 88   \n",
            "            88             88                                 \n",
            "           \"\"             88                                 \n",
            "                          88                                 \n",
            " ,adPPYba, 88 8b,dPPYba,  88,dPPYba,   ,adPPYba, 8b,dPPYba,  \n",
            "a8\"     \"\" 88 88P'    \"8a 88P'    \"8a a8P_____88 88P'   \"Y8  \n",
            "8b         88 88       d8 88       88 8PP\" 88          \n",
            "\"8a,   ,aa 88 88b,   ,a8\" 88       88 \"8b,   ,aa 88          \n",
            " `\"Ybbd8\"' 88 88`YbbdP\"'  88       88  `\"Ybbd8\"' 88          \n",
            "              88                                             \n",
            "              88           \n",
            "\n",
            "Type 'encode' to encrypt, type 'decode' to decrypt:\n",
            "encode\n",
            "Type your message:\n",
            "Apple pie is delicious, espiecially with cinnamon and ice-cream!\n",
            "Type the shift number:\n",
            "70\n",
            "The encoded text is Shhdw haw ak vwdauagmk, wkhawuasddq oalz uaffsegf sfv auw-ujwse!\n",
            "Do you want to continue? (y/n):y\n",
            "Type 'encode' to encrypt, type 'decode' to decrypt:\n",
            "decode\n",
            "Type your message:\n",
            "Shhdw haw ak vwdauagmk, wkhawuasddq oalz uaffsegf sfv auw-ujwse!\n",
            "Type the shift number:\n",
            "70\n",
            "The decoded text is Apple pie is delicious, espiecially with cinnamon and ice-cream!\n",
            "Do you want to continue? (y/n):n\n",
            "Thank you for using the program. Goodbye!\n"
          ]
        }
      ],
      "source": [
        "logo = \"\"\"\n",
        " ,adPPYba, ,adPPYYba,  ,adPPYba, ,adPPYba, ,adPPYYba, 8b,dPPYba,\n",
        "a8\"     \"\" \"\"     `Y8 a8P_____88 I8[    \"\" \"\"     `Y8 88P'   \"Y8\n",
        "8b         ,adPPPPP88 8PP\"\"\"\"\"\"\"  `\"Y8ba,  ,adPPPPP88 88\n",
        "\"8a,   ,aa 88,    ,88 \"8b,   ,aa aa    ]8I 88,    ,88 88\n",
        " `\"Ybbd8\"' `\"8bbdP\"Y8  `\"Ybbd8\"' `\"YbbdP\"' `\"8bbdP\"Y8 88\n",
        "            88             88\n",
        "           \"\"             88\n",
        "                          88\n",
        " ,adPPYba, 88 8b,dPPYba,  88,dPPYba,   ,adPPYba, 8b,dPPYba,\n",
        "a8\"     \"\" 88 88P'    \"8a 88P'    \"8a a8P_____88 88P'   \"Y8\n",
        "8b         88 88       d8 88       88 8PP\"\"\"\"\"\"\" 88\n",
        "\"8a,   ,aa 88 88b,   ,a8\" 88       88 \"8b,   ,aa 88\n",
        " `\"Ybbd8\"' 88 88`YbbdP\"'  88       88  `\"Ybbd8\"' 88\n",
        "              88\n",
        "              88\n",
        "\"\"\"\n",
        "print(logo)\n",
        "\n",
        "alphabet = ['a', 'b', 'c', 'd', 'e', 'f', 'g', 'h', 'i', 'j', 'k', 'l', 'm', 'n', 'o', 'p', 'q', 'r', 's', 't', 'u', 'v', 'w', 'x', 'y', 'z']\n",
        "\n",
        "direction = input(\"Type 'encode' to encrypt, type 'decode' to decrypt:\\n\")\n",
        "text = input(\"Type your message:\\n\").lower()\n",
        "shift = int(input(\"Type the shift number:\\n\"))\n",
        "\n",
        "def cezar(text, shift, direction):\n",
        "    end_text = \"\"\n",
        "    for letter in text:\n",
        "        if letter in alphabet:\n",
        "            if direction == 'encode':\n",
        "                end_letter = alphabet[(alphabet.index(letter) + shift) % 26]\n",
        "                end_text += end_letter\n",
        "            elif direction == 'decode':\n",
        "                end_letter = alphabet[(alphabet.index(letter) - shift) % 26]\n",
        "                end_text += end_letter\n",
        "            else:\n",
        "                print(\"You have entered the wrong command.\")\n",
        "        elif letter == ' ':\n",
        "            end_letter = letter\n",
        "            end_text += end_letter\n",
        "        else:\n",
        "            end_letter = letter\n",
        "            end_text += end_letter\n",
        "\n",
        "    print(f\"The {direction}d text is {end_text.capitalize()}\")\n",
        "\n",
        "cezar(text, shift, direction)\n",
        "\n",
        "while True:\n",
        "    restart = input('Do you want to continue? (y/n):').lower()\n",
        "    if restart == 'n':\n",
        "        print(\"Thank you for using the program. Goodbye!\")\n",
        "        break\n",
        "    elif restart == 'y':\n",
        "        direction = input(\"Type 'encode' to encrypt, type 'decode' to decrypt:\\n\")\n",
        "        text = input(\"Type your message:\\n\").lower()\n",
        "        shift = int(input(\"Type the shift number:\\n\"))\n",
        "        cezar(text, shift, direction)\n",
        "    else:\n",
        "        print(\"Invalid input. Please enter 'y' or 'n'.\")\n"
      ]
    }
  ]
}